{
  "nbformat": 4,
  "nbformat_minor": 0,
  "metadata": {
    "colab": {
      "provenance": []
    },
    "kernelspec": {
      "name": "python3",
      "display_name": "Python 3"
    },
    "language_info": {
      "name": "python"
    }
  },
  "cells": [
    {
      "cell_type": "code",
      "execution_count": null,
      "metadata": {
        "colab": {
          "base_uri": "https://localhost:8080/"
        },
        "id": "gk-I0hGmEbZG",
        "outputId": "31cc6d06-011f-4e5f-f3bd-842de9ee1677"
      },
      "outputs": [
        {
          "output_type": "stream",
          "name": "stdout",
          "text": [
            "Adele dikenal karena membuat karya musik yang unik dan menginspirasi.\n",
            "Ed Sheeran dikenal karena membuat karya musik yang unik dan menginspirasi.\n",
            "Taylor Swift dikenal karena membuat karya musik yang unik dan menginspirasi.\n",
            "Beyonce dikenal karena membuat karya musik yang unik dan menginspirasi.\n",
            "Bruno Mars dikenal karena membuat karya musik yang unik dan menginspirasi.\n"
          ]
        }
      ],
      "source": [
        "#3. Buatlah sebuah variabel dengan tipe data array, kemudian tampilkan semua nilai dalam variabel tersebut menggunakan perulangan for\n",
        "# Daftar penyanyi favorit\n",
        "penyanyi_favorit = [\"Adele\", \"Ed Sheeran\", \"Taylor Swift\", \"Beyonce\", \"Bruno Mars\"]\n",
        "\n",
        "# Menentukan aksi berdasarkan penyanyi favorit\n",
        "for penyanyi in penyanyi_favorit:\n",
        "    if penyanyi == \"0\":\n",
        "        aksi = \"menyanyikan lagu-lagu penuh emosi.\"\n",
        "    elif penyanyi == \"1\":\n",
        "        aksi = \"menulis dan menyanyikan lagu-lagu romantis.\"\n",
        "    elif penyanyi == \"2\":\n",
        "        aksi = \"menciptakan lagu-lagu dengan cerita kehidupan.\"\n",
        "    elif penyanyi == \"3\":\n",
        "        aksi = \"mempesona panggung dengan penampilan spektakuler.\"\n",
        "    elif penyanyi == \"4\":\n",
        "        aksi = \"menyajikan kombinasi musik funk, pop, dan R&B yang energetik.\"\n",
        "    else:\n",
        "        aksi = \"membuat karya musik yang unik dan menginspirasi.\"\n",
        "\n",
        "    print(f\"{penyanyi} dikenal karena {aksi}\")\n"
      ]
    }
  ]
}