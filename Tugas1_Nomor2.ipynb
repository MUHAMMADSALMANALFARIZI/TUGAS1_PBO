{
  "nbformat": 4,
  "nbformat_minor": 0,
  "metadata": {
    "colab": {
      "provenance": []
    },
    "kernelspec": {
      "name": "python3",
      "display_name": "Python 3"
    },
    "language_info": {
      "name": "python"
    }
  },
  "cells": [
    {
      "cell_type": "code",
      "execution_count": null,
      "metadata": {
        "colab": {
          "base_uri": "https://localhost:8080/"
        },
        "id": "uI1QcUPeLxaZ",
        "outputId": "1b580cab-8954-490c-8c73-3091a2bc37c7"
      },
      "outputs": [
        {
          "output_type": "stream",
          "name": "stdout",
          "text": [
            "Suhu 18 derajat Celsius diklasifikasikan sebagai suhu dingin.\n",
            "Suhu 19 derajat Celsius diklasifikasikan sebagai suhu dingin.\n",
            "Suhu 20 derajat Celsius diklasifikasikan sebagai suhu nyaman.\n",
            "Suhu 21 derajat Celsius diklasifikasikan sebagai suhu nyaman.\n",
            "Suhu 22 derajat Celsius diklasifikasikan sebagai suhu nyaman.\n",
            "Suhu 23 derajat Celsius diklasifikasikan sebagai suhu nyaman.\n",
            "Suhu 24 derajat Celsius diklasifikasikan sebagai suhu nyaman.\n",
            "Suhu 25 derajat Celsius diklasifikasikan sebagai suhu nyaman.\n",
            "Suhu 26 derajat Celsius diklasifikasikan sebagai suhu nyaman.\n",
            "Suhu 27 derajat Celsius diklasifikasikan sebagai suhu nyaman.\n",
            "Suhu 28 derajat Celsius diklasifikasikan sebagai suhu nyaman.\n",
            "Suhu 29 derajat Celsius diklasifikasikan sebagai suhu nyaman.\n",
            "Suhu 30 derajat Celsius diklasifikasikan sebagai suhu panas.\n",
            "Suhu 31 derajat Celsius diklasifikasikan sebagai suhu panas.\n",
            "Suhu 32 derajat Celsius diklasifikasikan sebagai suhu panas.\n"
          ]
        }
      ],
      "source": [
        "#2. Buatlah program bebas, dengan menerapkan if else pada:\n",
        "  #a. For Loops\n",
        "# Rentang suhu dalam derajat Celsius\n",
        "batas_bawah = 18\n",
        "batas_atas = 32\n",
        "\n",
        "for suhu in range(batas_bawah, batas_atas + 1):\n",
        "    if suhu >= 30:\n",
        "        status = \"panas\"\n",
        "    elif 20 <= suhu < 30:\n",
        "        status = \"nyaman\"\n",
        "    else:\n",
        "        status = \"dingin\"\n",
        "\n",
        "    print(f\"Suhu {suhu} derajat Celsius diklasifikasikan sebagai suhu {status}.\")\n"
      ]
    },
    {
      "cell_type": "code",
      "source": [
        "  #b. While Loops\n",
        "\n",
        "# Inisialisasi suhu awal\n",
        "suhu = 18\n",
        "\n",
        "# Batas atas suhu\n",
        "batas_atas = 32\n",
        "\n",
        "while suhu <= batas_atas:\n",
        "    if suhu >= 30:\n",
        "        status = \"panas\"\n",
        "    elif 20 <= suhu < 30:\n",
        "        status = \"nyaman\"\n",
        "    else:\n",
        "        status = \"dingin\"\n",
        "\n",
        "    print(f\"Suhu {suhu} derajat Celsius diklasifikasikan sebagai suhu {status}.\")\n",
        "\n",
        "    # Increment suhu untuk menghindari perulangan tanpa batas\n",
        "    suhu += 1\n"
      ],
      "metadata": {
        "colab": {
          "base_uri": "https://localhost:8080/"
        },
        "id": "oynwQ3FCN1S7",
        "outputId": "a6c108c9-ad6c-4059-e205-219a06c6f5c4"
      },
      "execution_count": null,
      "outputs": [
        {
          "output_type": "stream",
          "name": "stdout",
          "text": [
            "Suhu 18 derajat Celsius diklasifikasikan sebagai suhu dingin.\n",
            "Suhu 19 derajat Celsius diklasifikasikan sebagai suhu dingin.\n",
            "Suhu 20 derajat Celsius diklasifikasikan sebagai suhu nyaman.\n",
            "Suhu 21 derajat Celsius diklasifikasikan sebagai suhu nyaman.\n",
            "Suhu 22 derajat Celsius diklasifikasikan sebagai suhu nyaman.\n",
            "Suhu 23 derajat Celsius diklasifikasikan sebagai suhu nyaman.\n",
            "Suhu 24 derajat Celsius diklasifikasikan sebagai suhu nyaman.\n",
            "Suhu 25 derajat Celsius diklasifikasikan sebagai suhu nyaman.\n",
            "Suhu 26 derajat Celsius diklasifikasikan sebagai suhu nyaman.\n",
            "Suhu 27 derajat Celsius diklasifikasikan sebagai suhu nyaman.\n",
            "Suhu 28 derajat Celsius diklasifikasikan sebagai suhu nyaman.\n",
            "Suhu 29 derajat Celsius diklasifikasikan sebagai suhu nyaman.\n",
            "Suhu 30 derajat Celsius diklasifikasikan sebagai suhu panas.\n",
            "Suhu 31 derajat Celsius diklasifikasikan sebagai suhu panas.\n",
            "Suhu 32 derajat Celsius diklasifikasikan sebagai suhu panas.\n"
          ]
        }
      ]
    }
  ]
}